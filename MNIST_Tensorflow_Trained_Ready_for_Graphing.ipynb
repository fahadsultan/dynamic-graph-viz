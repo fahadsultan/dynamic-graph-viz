{
  "nbformat": 4,
  "nbformat_minor": 0,
  "metadata": {
    "colab": {
      "provenance": []
    },
    "kernelspec": {
      "name": "python3",
      "display_name": "Python 3"
    },
    "language_info": {
      "name": "python"
    }
  },
  "cells": [
    {
      "cell_type": "code",
      "source": [
        "import tensorflow as tf\n",
        "from sklearn.model_selection import train_test_split\n",
        "from sklearn.preprocessing import StandardScaler\n",
        "from sklearn.metrics import confusion_matrix, classification_report\n",
        "import pandas as pd\n",
        "from sklearn import datasets\n"
      ],
      "metadata": {
        "id": "26K5b1UOSpeT"
      },
      "execution_count": 47,
      "outputs": []
    },
    {
      "cell_type": "code",
      "source": [
        "(X_train, y_train), (X_test, y_test) = tf.keras.datasets.mnist.load_data()\n"
      ],
      "metadata": {
        "id": "fWsyX_4NMH2K"
      },
      "execution_count": 48,
      "outputs": []
    },
    {
      "cell_type": "code",
      "source": [
        "X_train, X_test = X_train / 255.0, X_test / 255.0\n",
        "\n",
        "# Flatten pixels\n",
        "X_train = X_train.reshape((-1, 784))\n",
        "X_test = X_test.reshape((-1, 784))"
      ],
      "metadata": {
        "id": "Ro9aFudwTLoW"
      },
      "execution_count": 49,
      "outputs": []
    },
    {
      "cell_type": "code",
      "source": [
        "# tf.random.set_seed(42)\n",
        "model = tf.keras.Sequential([\n",
        "    tf.keras.layers.InputLayer(input_shape=784),\n",
        "    # tf.keras.layers.Conv2D(4, 4)\n",
        "    tf.keras.layers.Dense(20, activation='relu'),\n",
        "    tf.keras.layers.Dense(20, activation='relu'),\n",
        "    tf.keras.layers.Dense(10, activation='softmax')\n",
        "])\n",
        "\n",
        "model.compile(optimizer='adam',\n",
        "              loss='sparse_categorical_crossentropy',\n",
        "              metrics=['accuracy'])\n",
        "\n",
        "model.fit(X_train, y_train, epochs=3, batch_size=1, verbose=1)\n",
        "\n",
        "loss, accuracy = model.evaluate(X_test, y_test, verbose=0)\n",
        "print(f'Test accuracy: {accuracy:.4f}')\n"
      ],
      "metadata": {
        "colab": {
          "base_uri": "https://localhost:8080/"
        },
        "id": "0rf3Ky5PR1Q9",
        "outputId": "7990006c-3fa1-41da-f163-aa8efd83cb87"
      },
      "execution_count": null,
      "outputs": [
        {
          "output_type": "stream",
          "name": "stdout",
          "text": [
            "Epoch 1/3\n",
            "38046/60000 [==================>...........] - ETA: 46s - loss: 0.3469 - accuracy: 0.8969"
          ]
        }
      ]
    },
    {
      "cell_type": "code",
      "source": [
        "import networkx as nx\n",
        "\n",
        "weights = model.weights\n",
        "# Create a directed graph\n",
        "G = nx.DiGraph()\n",
        "\n",
        "pos = {}\n",
        "# Add nodes for first column\n",
        "col = 0\n",
        "print(len(weights))\n",
        "i = 0\n",
        "z = 0\n",
        "maxRows = 0\n",
        "for z in range(len(weights)):\n",
        "  maxRows = max(maxRows, weights[z].shape[0])\n",
        "  z += 2\n",
        "\n",
        "maxRows += 1\n",
        "\n",
        "while i < len(weights): #gets weights associated with the a column\n",
        "  w = weights[i]\n",
        "\n",
        "  for sourceRow in range(w.shape[0]): # gets weights associated with a node\n",
        "    source_node = 'l_' + str(sourceRow) + '_' + str(col)\n",
        "    pos[source_node] = (col, maxRows//(w.shape[0] + 1) * (sourceRow + 1) * -5)\n",
        "\n",
        "    for row in range(w.shape[1]):\n",
        "      dest_node = 'l_' + str(row) + '_' + str(col+1)\n",
        "      G.add_edge(source_node, dest_node, weight = w[sourceRow][row])\n",
        "      pos[dest_node] = (col + 1, maxRows//(w.shape[1] + 1) * (row + 1) * -5)\n",
        "\n",
        "  i += 2\n",
        "  col += 1"
      ],
      "metadata": {
        "id": "PGj87ZzIS6Bq"
      },
      "execution_count": null,
      "outputs": []
    },
    {
      "cell_type": "code",
      "source": [
        "# mapping = {}\n",
        "# target_names = iris[\"target_names\"]\n",
        "# target_index = 0\n",
        "\n",
        "# for node in G.nodes():\n",
        "#     if node.endswith('_3'):\n",
        "#         mapping[node] = node.replace(node, f'{target_names[target_index]}')\n",
        "#         target_index += 1  # Move to the next target_name\n",
        "# # Perform the renaming\n",
        "# G = nx.relabel_nodes(G, mapping)\n",
        "\n",
        "# print(G.nodes)"
      ],
      "metadata": {
        "id": "PnwieFO-9p5m"
      },
      "execution_count": null,
      "outputs": []
    },
    {
      "cell_type": "code",
      "source": [
        "# import matplotlib.pyplot as plt\n",
        "# import networkx as nx\n",
        "# import math\n",
        "\n",
        "# edge_colors = []\n",
        "# alpha = []\n",
        "# width = []\n",
        "# for u, v, d in G.edges(data=True):\n",
        "#     # print(\"Source is\", u, \"destination is\", v, \"and weight is\", d[\"weight\"])\n",
        "#     if d['weight'] > 0:\n",
        "#         edge_colors.append('black')\n",
        "#         value = (d['weight'] **(3/2))\n",
        "#     else:\n",
        "#         edge_colors.append('red')\n",
        "#         value = (d['weight'] **(3/2))\n",
        "#         # print(\"stuff happened\")\n",
        "#     alpha.append( d['weight'])\n",
        "\n",
        "#     cubed_value = d['weight'] ** 3\n",
        "#     if cubed_value > 0:\n",
        "#         log_of_cubed_value = math.log(cubed_value)  # natural logarithm (base e)\n",
        "#     else:\n",
        "#         cubed_value *= -1\n",
        "#         log_of_cubed_value = math.log(cubed_value)\n",
        "#     width.append(log_of_cubed_value)\n",
        "\n",
        "# plt.figure(figsize=(35, 10))\n",
        "\n",
        "# nx.draw(G, pos=pos, with_labels=True, node_size=300, node_color='skyblue', font_size=10, font_weight='bold', arrows=True)\n",
        "\n",
        "# nx.draw_networkx_edges(G, pos=pos, edge_color=edge_colors, arrows=True, width = width)\n",
        "\n",
        "\n",
        "# edge_labels = {(u, v): f\"{d['weight']:.2f}\" for u, v, d in G.edges(data=True)}\n",
        "# nx.draw_networkx_edge_labels(G, pos, edge_labels=edge_labels, font_color='black', font_size=8)\n",
        "\n",
        "# plt.title('Neural Network Visualization')\n",
        "\n",
        "# plt.axis('on')\n",
        "# plt.margins(0.1)\n",
        "\n",
        "# plt.show()"
      ],
      "metadata": {
        "id": "RvboFnrTS9Va"
      },
      "execution_count": null,
      "outputs": []
    },
    {
      "cell_type": "code",
      "source": [
        "import plotly.graph_objects as go\n",
        "import networkx as nx\n",
        "import random\n",
        "import math\n",
        "\n",
        "source = []\n",
        "target = []\n",
        "weights_list = []\n",
        "edges = G.edges(data=True)\n",
        "edges = sorted(edges)\n",
        "edge_colors = []\n",
        "# print(\"Length of edges:\", len(edges))\n",
        "for u, v, d in edges:\n",
        "  if u.endswith(\"_0\"):\n",
        "    continue\n",
        "  source.append(u)\n",
        "  target.append(v)\n",
        "  value = d[\"weight\"].numpy()\n",
        "  # if d[\"weight\"] < 0:\n",
        "  #   value = d[\"weight\"].numpy() * -1\n",
        "  #   value = (value+1) ** 3\n",
        "  #   value = math.log(value, 10)\n",
        "  #   value *= -1\n",
        "  #   edge_colors.append(\"black\")\n",
        "  # else:\n",
        "  #   edge_colors.append(\"red\")\n",
        "  #   value = (value+1) ** 3\n",
        "  #   value = math.log(value, 10)\n",
        "\n",
        "  if d[\"weight\"] > 0:\n",
        "    value = d[\"weight\"]\n",
        "    edge_colors.append(\"black\")\n",
        "  else:\n",
        "    value = d[\"weight\"] * -1\n",
        "    edge_colors.append(\"red\")\n",
        "  weights_list.append(value)\n",
        "\n",
        "node_to_index = {node: i for i, node in enumerate(sorted(G.nodes))}\n",
        "print(len(source), len(target), len(weights))\n",
        "source_index = []\n",
        "target_index = []\n",
        "\n",
        "\n",
        "for val in source:\n",
        "  source_index.append(node_to_index[val])\n",
        "\n",
        "for val in target:\n",
        "  target_index.append(node_to_index[val])\n",
        "\n",
        "# print(\"Sources:\", source_index)\n",
        "\n",
        "# print(\"Targets:\", target_index)\n",
        "\n",
        "# print(\"Indexes:\", node_to_index)\n",
        "link_properties = {\n",
        "    'source': source_index,\n",
        "    'target': target_index,\n",
        "    'value': weights_list,\n",
        "    'color': edge_colors\n",
        "}\n",
        "\n",
        "node_properties = {\n",
        "    'pad': 15,\n",
        "    'thickness': 20,\n",
        "    'line': dict(color=\"black\", width=0.5),\n",
        "    'label': sorted(G.nodes())\n",
        "}\n",
        "\n",
        "sankey_diagram = go.Sankey(node=node_properties, link=link_properties)\n",
        "\n",
        "fig = go.Figure(data=[sankey_diagram])\n",
        "fig.update_layout(title_text=\"Sankey Diagram for Neural Networks\", font_size=10)\n",
        "fig.show()\n"
      ],
      "metadata": {
        "id": "Qj4qJJiRS-uR"
      },
      "execution_count": null,
      "outputs": []
    },
    {
      "cell_type": "code",
      "source": [],
      "metadata": {
        "id": "b1lhTV0-X9qV"
      },
      "execution_count": null,
      "outputs": []
    }
  ]
}