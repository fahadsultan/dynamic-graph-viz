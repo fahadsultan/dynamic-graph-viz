{
  "nbformat": 4,
  "nbformat_minor": 0,
  "metadata": {
    "colab": {
      "provenance": []
    },
    "kernelspec": {
      "name": "python3",
      "display_name": "Python 3"
    },
    "language_info": {
      "name": "python"
    }
  },
  "cells": [
    {
      "cell_type": "code",
      "source": [
        "import tensorflow as tf\n",
        "from sklearn.model_selection import train_test_split\n",
        "from sklearn.preprocessing import StandardScaler\n",
        "from sklearn.metrics import confusion_matrix, classification_report\n",
        "from sklearn.datasets import load_iris"
      ],
      "metadata": {
        "id": "26K5b1UOSpeT"
      },
      "execution_count": 1,
      "outputs": []
    },
    {
      "cell_type": "code",
      "source": [
        "from sklearn import datasets\n",
        "\n",
        "iris = datasets.load_iris()"
      ],
      "metadata": {
        "id": "sxvsLAwoyfUN"
      },
      "execution_count": 2,
      "outputs": []
    },
    {
      "cell_type": "code",
      "source": [
        "iris.keys()"
      ],
      "metadata": {
        "colab": {
          "base_uri": "https://localhost:8080/"
        },
        "id": "P8gk5prfyrmI",
        "outputId": "1eb6dadc-7075-49e8-fc65-c049eebd99ed"
      },
      "execution_count": 3,
      "outputs": [
        {
          "output_type": "execute_result",
          "data": {
            "text/plain": [
              "dict_keys(['data', 'target', 'frame', 'target_names', 'DESCR', 'feature_names', 'filename', 'data_module'])"
            ]
          },
          "metadata": {},
          "execution_count": 3
        }
      ]
    },
    {
      "cell_type": "code",
      "source": [
        "X = iris['data']\n",
        "y = iris['target']\n",
        "y_labels = iris['target_names']"
      ],
      "metadata": {
        "id": "cg2i81-9yhAd"
      },
      "execution_count": 4,
      "outputs": []
    },
    {
      "cell_type": "code",
      "source": [
        "import pandas as pd\n",
        "X = pd.DataFrame(X, columns=iris['feature_names'])\n"
      ],
      "metadata": {
        "id": "4il4jVV2yrNp"
      },
      "execution_count": 5,
      "outputs": []
    },
    {
      "cell_type": "code",
      "source": [
        "X.head()"
      ],
      "metadata": {
        "colab": {
          "base_uri": "https://localhost:8080/",
          "height": 206
        },
        "id": "G6NOrK6uy8ZW",
        "outputId": "fc9f8fb2-74f0-4c94-aec5-c8dfdf95e5ca"
      },
      "execution_count": 6,
      "outputs": [
        {
          "output_type": "execute_result",
          "data": {
            "text/plain": [
              "   sepal length (cm)  sepal width (cm)  petal length (cm)  petal width (cm)\n",
              "0                5.1               3.5                1.4               0.2\n",
              "1                4.9               3.0                1.4               0.2\n",
              "2                4.7               3.2                1.3               0.2\n",
              "3                4.6               3.1                1.5               0.2\n",
              "4                5.0               3.6                1.4               0.2"
            ],
            "text/html": [
              "\n",
              "  <div id=\"df-8ca735b0-6384-4390-88ec-6cb7f95e7f98\" class=\"colab-df-container\">\n",
              "    <div>\n",
              "<style scoped>\n",
              "    .dataframe tbody tr th:only-of-type {\n",
              "        vertical-align: middle;\n",
              "    }\n",
              "\n",
              "    .dataframe tbody tr th {\n",
              "        vertical-align: top;\n",
              "    }\n",
              "\n",
              "    .dataframe thead th {\n",
              "        text-align: right;\n",
              "    }\n",
              "</style>\n",
              "<table border=\"1\" class=\"dataframe\">\n",
              "  <thead>\n",
              "    <tr style=\"text-align: right;\">\n",
              "      <th></th>\n",
              "      <th>sepal length (cm)</th>\n",
              "      <th>sepal width (cm)</th>\n",
              "      <th>petal length (cm)</th>\n",
              "      <th>petal width (cm)</th>\n",
              "    </tr>\n",
              "  </thead>\n",
              "  <tbody>\n",
              "    <tr>\n",
              "      <th>0</th>\n",
              "      <td>5.1</td>\n",
              "      <td>3.5</td>\n",
              "      <td>1.4</td>\n",
              "      <td>0.2</td>\n",
              "    </tr>\n",
              "    <tr>\n",
              "      <th>1</th>\n",
              "      <td>4.9</td>\n",
              "      <td>3.0</td>\n",
              "      <td>1.4</td>\n",
              "      <td>0.2</td>\n",
              "    </tr>\n",
              "    <tr>\n",
              "      <th>2</th>\n",
              "      <td>4.7</td>\n",
              "      <td>3.2</td>\n",
              "      <td>1.3</td>\n",
              "      <td>0.2</td>\n",
              "    </tr>\n",
              "    <tr>\n",
              "      <th>3</th>\n",
              "      <td>4.6</td>\n",
              "      <td>3.1</td>\n",
              "      <td>1.5</td>\n",
              "      <td>0.2</td>\n",
              "    </tr>\n",
              "    <tr>\n",
              "      <th>4</th>\n",
              "      <td>5.0</td>\n",
              "      <td>3.6</td>\n",
              "      <td>1.4</td>\n",
              "      <td>0.2</td>\n",
              "    </tr>\n",
              "  </tbody>\n",
              "</table>\n",
              "</div>\n",
              "    <div class=\"colab-df-buttons\">\n",
              "\n",
              "  <div class=\"colab-df-container\">\n",
              "    <button class=\"colab-df-convert\" onclick=\"convertToInteractive('df-8ca735b0-6384-4390-88ec-6cb7f95e7f98')\"\n",
              "            title=\"Convert this dataframe to an interactive table.\"\n",
              "            style=\"display:none;\">\n",
              "\n",
              "  <svg xmlns=\"http://www.w3.org/2000/svg\" height=\"24px\" viewBox=\"0 -960 960 960\">\n",
              "    <path d=\"M120-120v-720h720v720H120Zm60-500h600v-160H180v160Zm220 220h160v-160H400v160Zm0 220h160v-160H400v160ZM180-400h160v-160H180v160Zm440 0h160v-160H620v160ZM180-180h160v-160H180v160Zm440 0h160v-160H620v160Z\"/>\n",
              "  </svg>\n",
              "    </button>\n",
              "\n",
              "  <style>\n",
              "    .colab-df-container {\n",
              "      display:flex;\n",
              "      gap: 12px;\n",
              "    }\n",
              "\n",
              "    .colab-df-convert {\n",
              "      background-color: #E8F0FE;\n",
              "      border: none;\n",
              "      border-radius: 50%;\n",
              "      cursor: pointer;\n",
              "      display: none;\n",
              "      fill: #1967D2;\n",
              "      height: 32px;\n",
              "      padding: 0 0 0 0;\n",
              "      width: 32px;\n",
              "    }\n",
              "\n",
              "    .colab-df-convert:hover {\n",
              "      background-color: #E2EBFA;\n",
              "      box-shadow: 0px 1px 2px rgba(60, 64, 67, 0.3), 0px 1px 3px 1px rgba(60, 64, 67, 0.15);\n",
              "      fill: #174EA6;\n",
              "    }\n",
              "\n",
              "    .colab-df-buttons div {\n",
              "      margin-bottom: 4px;\n",
              "    }\n",
              "\n",
              "    [theme=dark] .colab-df-convert {\n",
              "      background-color: #3B4455;\n",
              "      fill: #D2E3FC;\n",
              "    }\n",
              "\n",
              "    [theme=dark] .colab-df-convert:hover {\n",
              "      background-color: #434B5C;\n",
              "      box-shadow: 0px 1px 3px 1px rgba(0, 0, 0, 0.15);\n",
              "      filter: drop-shadow(0px 1px 2px rgba(0, 0, 0, 0.3));\n",
              "      fill: #FFFFFF;\n",
              "    }\n",
              "  </style>\n",
              "\n",
              "    <script>\n",
              "      const buttonEl =\n",
              "        document.querySelector('#df-8ca735b0-6384-4390-88ec-6cb7f95e7f98 button.colab-df-convert');\n",
              "      buttonEl.style.display =\n",
              "        google.colab.kernel.accessAllowed ? 'block' : 'none';\n",
              "\n",
              "      async function convertToInteractive(key) {\n",
              "        const element = document.querySelector('#df-8ca735b0-6384-4390-88ec-6cb7f95e7f98');\n",
              "        const dataTable =\n",
              "          await google.colab.kernel.invokeFunction('convertToInteractive',\n",
              "                                                    [key], {});\n",
              "        if (!dataTable) return;\n",
              "\n",
              "        const docLinkHtml = 'Like what you see? Visit the ' +\n",
              "          '<a target=\"_blank\" href=https://colab.research.google.com/notebooks/data_table.ipynb>data table notebook</a>'\n",
              "          + ' to learn more about interactive tables.';\n",
              "        element.innerHTML = '';\n",
              "        dataTable['output_type'] = 'display_data';\n",
              "        await google.colab.output.renderOutput(dataTable, element);\n",
              "        const docLink = document.createElement('div');\n",
              "        docLink.innerHTML = docLinkHtml;\n",
              "        element.appendChild(docLink);\n",
              "      }\n",
              "    </script>\n",
              "  </div>\n",
              "\n",
              "\n",
              "<div id=\"df-7cd5f76e-4479-4ee5-9138-28cbbeb3a5d9\">\n",
              "  <button class=\"colab-df-quickchart\" onclick=\"quickchart('df-7cd5f76e-4479-4ee5-9138-28cbbeb3a5d9')\"\n",
              "            title=\"Suggest charts\"\n",
              "            style=\"display:none;\">\n",
              "\n",
              "<svg xmlns=\"http://www.w3.org/2000/svg\" height=\"24px\"viewBox=\"0 0 24 24\"\n",
              "     width=\"24px\">\n",
              "    <g>\n",
              "        <path d=\"M19 3H5c-1.1 0-2 .9-2 2v14c0 1.1.9 2 2 2h14c1.1 0 2-.9 2-2V5c0-1.1-.9-2-2-2zM9 17H7v-7h2v7zm4 0h-2V7h2v10zm4 0h-2v-4h2v4z\"/>\n",
              "    </g>\n",
              "</svg>\n",
              "  </button>\n",
              "\n",
              "<style>\n",
              "  .colab-df-quickchart {\n",
              "      --bg-color: #E8F0FE;\n",
              "      --fill-color: #1967D2;\n",
              "      --hover-bg-color: #E2EBFA;\n",
              "      --hover-fill-color: #174EA6;\n",
              "      --disabled-fill-color: #AAA;\n",
              "      --disabled-bg-color: #DDD;\n",
              "  }\n",
              "\n",
              "  [theme=dark] .colab-df-quickchart {\n",
              "      --bg-color: #3B4455;\n",
              "      --fill-color: #D2E3FC;\n",
              "      --hover-bg-color: #434B5C;\n",
              "      --hover-fill-color: #FFFFFF;\n",
              "      --disabled-bg-color: #3B4455;\n",
              "      --disabled-fill-color: #666;\n",
              "  }\n",
              "\n",
              "  .colab-df-quickchart {\n",
              "    background-color: var(--bg-color);\n",
              "    border: none;\n",
              "    border-radius: 50%;\n",
              "    cursor: pointer;\n",
              "    display: none;\n",
              "    fill: var(--fill-color);\n",
              "    height: 32px;\n",
              "    padding: 0;\n",
              "    width: 32px;\n",
              "  }\n",
              "\n",
              "  .colab-df-quickchart:hover {\n",
              "    background-color: var(--hover-bg-color);\n",
              "    box-shadow: 0 1px 2px rgba(60, 64, 67, 0.3), 0 1px 3px 1px rgba(60, 64, 67, 0.15);\n",
              "    fill: var(--button-hover-fill-color);\n",
              "  }\n",
              "\n",
              "  .colab-df-quickchart-complete:disabled,\n",
              "  .colab-df-quickchart-complete:disabled:hover {\n",
              "    background-color: var(--disabled-bg-color);\n",
              "    fill: var(--disabled-fill-color);\n",
              "    box-shadow: none;\n",
              "  }\n",
              "\n",
              "  .colab-df-spinner {\n",
              "    border: 2px solid var(--fill-color);\n",
              "    border-color: transparent;\n",
              "    border-bottom-color: var(--fill-color);\n",
              "    animation:\n",
              "      spin 1s steps(1) infinite;\n",
              "  }\n",
              "\n",
              "  @keyframes spin {\n",
              "    0% {\n",
              "      border-color: transparent;\n",
              "      border-bottom-color: var(--fill-color);\n",
              "      border-left-color: var(--fill-color);\n",
              "    }\n",
              "    20% {\n",
              "      border-color: transparent;\n",
              "      border-left-color: var(--fill-color);\n",
              "      border-top-color: var(--fill-color);\n",
              "    }\n",
              "    30% {\n",
              "      border-color: transparent;\n",
              "      border-left-color: var(--fill-color);\n",
              "      border-top-color: var(--fill-color);\n",
              "      border-right-color: var(--fill-color);\n",
              "    }\n",
              "    40% {\n",
              "      border-color: transparent;\n",
              "      border-right-color: var(--fill-color);\n",
              "      border-top-color: var(--fill-color);\n",
              "    }\n",
              "    60% {\n",
              "      border-color: transparent;\n",
              "      border-right-color: var(--fill-color);\n",
              "    }\n",
              "    80% {\n",
              "      border-color: transparent;\n",
              "      border-right-color: var(--fill-color);\n",
              "      border-bottom-color: var(--fill-color);\n",
              "    }\n",
              "    90% {\n",
              "      border-color: transparent;\n",
              "      border-bottom-color: var(--fill-color);\n",
              "    }\n",
              "  }\n",
              "</style>\n",
              "\n",
              "  <script>\n",
              "    async function quickchart(key) {\n",
              "      const quickchartButtonEl =\n",
              "        document.querySelector('#' + key + ' button');\n",
              "      quickchartButtonEl.disabled = true;  // To prevent multiple clicks.\n",
              "      quickchartButtonEl.classList.add('colab-df-spinner');\n",
              "      try {\n",
              "        const charts = await google.colab.kernel.invokeFunction(\n",
              "            'suggestCharts', [key], {});\n",
              "      } catch (error) {\n",
              "        console.error('Error during call to suggestCharts:', error);\n",
              "      }\n",
              "      quickchartButtonEl.classList.remove('colab-df-spinner');\n",
              "      quickchartButtonEl.classList.add('colab-df-quickchart-complete');\n",
              "    }\n",
              "    (() => {\n",
              "      let quickchartButtonEl =\n",
              "        document.querySelector('#df-7cd5f76e-4479-4ee5-9138-28cbbeb3a5d9 button');\n",
              "      quickchartButtonEl.style.display =\n",
              "        google.colab.kernel.accessAllowed ? 'block' : 'none';\n",
              "    })();\n",
              "  </script>\n",
              "</div>\n",
              "\n",
              "    </div>\n",
              "  </div>\n"
            ],
            "application/vnd.google.colaboratory.intrinsic+json": {
              "type": "dataframe",
              "variable_name": "X",
              "summary": "{\n  \"name\": \"X\",\n  \"rows\": 150,\n  \"fields\": [\n    {\n      \"column\": \"sepal length (cm)\",\n      \"properties\": {\n        \"dtype\": \"number\",\n        \"std\": 0.828066127977863,\n        \"min\": 4.3,\n        \"max\": 7.9,\n        \"num_unique_values\": 35,\n        \"samples\": [\n          6.2,\n          4.5,\n          5.6\n        ],\n        \"semantic_type\": \"\",\n        \"description\": \"\"\n      }\n    },\n    {\n      \"column\": \"sepal width (cm)\",\n      \"properties\": {\n        \"dtype\": \"number\",\n        \"std\": 0.4358662849366982,\n        \"min\": 2.0,\n        \"max\": 4.4,\n        \"num_unique_values\": 23,\n        \"samples\": [\n          2.3,\n          4.0,\n          3.5\n        ],\n        \"semantic_type\": \"\",\n        \"description\": \"\"\n      }\n    },\n    {\n      \"column\": \"petal length (cm)\",\n      \"properties\": {\n        \"dtype\": \"number\",\n        \"std\": 1.7652982332594662,\n        \"min\": 1.0,\n        \"max\": 6.9,\n        \"num_unique_values\": 43,\n        \"samples\": [\n          6.7,\n          3.8,\n          3.7\n        ],\n        \"semantic_type\": \"\",\n        \"description\": \"\"\n      }\n    },\n    {\n      \"column\": \"petal width (cm)\",\n      \"properties\": {\n        \"dtype\": \"number\",\n        \"std\": 0.7622376689603465,\n        \"min\": 0.1,\n        \"max\": 2.5,\n        \"num_unique_values\": 22,\n        \"samples\": [\n          0.2,\n          1.2,\n          1.3\n        ],\n        \"semantic_type\": \"\",\n        \"description\": \"\"\n      }\n    }\n  ]\n}"
            }
          },
          "metadata": {},
          "execution_count": 6
        }
      ]
    },
    {
      "cell_type": "code",
      "source": [
        "y"
      ],
      "metadata": {
        "id": "Z3RCb60my93p",
        "outputId": "00db9fc1-871b-41b2-d731-689408631122",
        "colab": {
          "base_uri": "https://localhost:8080/"
        }
      },
      "execution_count": 7,
      "outputs": [
        {
          "output_type": "execute_result",
          "data": {
            "text/plain": [
              "array([0, 0, 0, 0, 0, 0, 0, 0, 0, 0, 0, 0, 0, 0, 0, 0, 0, 0, 0, 0, 0, 0,\n",
              "       0, 0, 0, 0, 0, 0, 0, 0, 0, 0, 0, 0, 0, 0, 0, 0, 0, 0, 0, 0, 0, 0,\n",
              "       0, 0, 0, 0, 0, 0, 1, 1, 1, 1, 1, 1, 1, 1, 1, 1, 1, 1, 1, 1, 1, 1,\n",
              "       1, 1, 1, 1, 1, 1, 1, 1, 1, 1, 1, 1, 1, 1, 1, 1, 1, 1, 1, 1, 1, 1,\n",
              "       1, 1, 1, 1, 1, 1, 1, 1, 1, 1, 1, 1, 2, 2, 2, 2, 2, 2, 2, 2, 2, 2,\n",
              "       2, 2, 2, 2, 2, 2, 2, 2, 2, 2, 2, 2, 2, 2, 2, 2, 2, 2, 2, 2, 2, 2,\n",
              "       2, 2, 2, 2, 2, 2, 2, 2, 2, 2, 2, 2, 2, 2, 2, 2, 2, 2])"
            ]
          },
          "metadata": {},
          "execution_count": 7
        }
      ]
    },
    {
      "cell_type": "code",
      "source": [
        "X_train, X_test, y_train, y_test = train_test_split(X, y, test_size=0.2)\n",
        "\n",
        "scaler = StandardScaler()\n",
        "X_train_scaled = scaler.fit_transform(X_train)\n",
        "X_test_scaled = scaler.transform(X_test)"
      ],
      "metadata": {
        "id": "fWsyX_4NMH2K"
      },
      "execution_count": 8,
      "outputs": []
    },
    {
      "cell_type": "code",
      "source": [
        "\n",
        "\n",
        "model = tf.keras.Sequential([\n",
        "    tf.keras.layers.Dense(4, activation='relu'),\n",
        "    tf.keras.layers.Dense(3, activation='softmax')\n",
        "])\n",
        "\n",
        "model.compile(optimizer='adam',\n",
        "              loss='sparse_categorical_crossentropy',\n",
        "              metrics=['accuracy'])\n",
        "tf.random.set_seed(42)\n",
        "model.fit(X_train_scaled, y_train, epochs=50, batch_size=1, verbose=1)\n",
        "\n",
        "loss, accuracy = model.evaluate(X_test_scaled, y_test, verbose=0)\n",
        "print(f'Test accuracy: {accuracy:.4f}')\n"
      ],
      "metadata": {
        "colab": {
          "base_uri": "https://localhost:8080/"
        },
        "id": "0rf3Ky5PR1Q9",
        "outputId": "dcbe000f-7790-4dd9-e0ad-aa8bd419da2b"
      },
      "execution_count": 9,
      "outputs": [
        {
          "output_type": "stream",
          "name": "stdout",
          "text": [
            "Epoch 1/50\n",
            "120/120 [==============================] - 4s 7ms/step - loss: 0.8612 - accuracy: 0.3250\n",
            "Epoch 2/50\n",
            "120/120 [==============================] - 1s 5ms/step - loss: 0.7638 - accuracy: 0.5667\n",
            "Epoch 3/50\n",
            "120/120 [==============================] - 1s 9ms/step - loss: 0.6953 - accuracy: 0.7083\n",
            "Epoch 4/50\n",
            "120/120 [==============================] - 1s 7ms/step - loss: 0.6388 - accuracy: 0.7500\n",
            "Epoch 5/50\n",
            "120/120 [==============================] - 1s 8ms/step - loss: 0.5878 - accuracy: 0.7750\n",
            "Epoch 6/50\n",
            "120/120 [==============================] - 1s 7ms/step - loss: 0.5415 - accuracy: 0.8250\n",
            "Epoch 7/50\n",
            "120/120 [==============================] - 1s 8ms/step - loss: 0.5007 - accuracy: 0.8583\n",
            "Epoch 8/50\n",
            "120/120 [==============================] - 1s 7ms/step - loss: 0.4639 - accuracy: 0.8667\n",
            "Epoch 9/50\n",
            "120/120 [==============================] - 1s 5ms/step - loss: 0.4309 - accuracy: 0.8750\n",
            "Epoch 10/50\n",
            "120/120 [==============================] - 1s 6ms/step - loss: 0.4024 - accuracy: 0.8667\n",
            "Epoch 11/50\n",
            "120/120 [==============================] - 1s 4ms/step - loss: 0.3775 - accuracy: 0.8833\n",
            "Epoch 12/50\n",
            "120/120 [==============================] - 1s 6ms/step - loss: 0.3557 - accuracy: 0.8750\n",
            "Epoch 13/50\n",
            "120/120 [==============================] - 1s 10ms/step - loss: 0.3355 - accuracy: 0.8833\n",
            "Epoch 14/50\n",
            "120/120 [==============================] - 1s 6ms/step - loss: 0.3162 - accuracy: 0.9083\n",
            "Epoch 15/50\n",
            "120/120 [==============================] - 1s 7ms/step - loss: 0.2983 - accuracy: 0.9250\n",
            "Epoch 16/50\n",
            "120/120 [==============================] - 1s 9ms/step - loss: 0.2838 - accuracy: 0.9250\n",
            "Epoch 17/50\n",
            "120/120 [==============================] - 1s 7ms/step - loss: 0.2709 - accuracy: 0.9250\n",
            "Epoch 18/50\n",
            "120/120 [==============================] - 1s 9ms/step - loss: 0.2584 - accuracy: 0.9250\n",
            "Epoch 19/50\n",
            "120/120 [==============================] - 1s 5ms/step - loss: 0.2487 - accuracy: 0.9250\n",
            "Epoch 20/50\n",
            "120/120 [==============================] - 0s 4ms/step - loss: 0.2387 - accuracy: 0.9250\n",
            "Epoch 21/50\n",
            "120/120 [==============================] - 0s 3ms/step - loss: 0.2301 - accuracy: 0.9250\n",
            "Epoch 22/50\n",
            "120/120 [==============================] - 0s 3ms/step - loss: 0.2208 - accuracy: 0.9250\n",
            "Epoch 23/50\n",
            "120/120 [==============================] - 0s 3ms/step - loss: 0.2130 - accuracy: 0.9333\n",
            "Epoch 24/50\n",
            "120/120 [==============================] - 0s 4ms/step - loss: 0.2056 - accuracy: 0.9417\n",
            "Epoch 25/50\n",
            "120/120 [==============================] - 0s 3ms/step - loss: 0.1975 - accuracy: 0.9500\n",
            "Epoch 26/50\n",
            "120/120 [==============================] - 0s 2ms/step - loss: 0.1898 - accuracy: 0.9500\n",
            "Epoch 27/50\n",
            "120/120 [==============================] - 0s 3ms/step - loss: 0.1829 - accuracy: 0.9583\n",
            "Epoch 28/50\n",
            "120/120 [==============================] - 0s 3ms/step - loss: 0.1763 - accuracy: 0.9583\n",
            "Epoch 29/50\n",
            "120/120 [==============================] - 0s 3ms/step - loss: 0.1700 - accuracy: 0.9583\n",
            "Epoch 30/50\n",
            "120/120 [==============================] - 0s 3ms/step - loss: 0.1639 - accuracy: 0.9583\n",
            "Epoch 31/50\n",
            "120/120 [==============================] - 0s 3ms/step - loss: 0.1587 - accuracy: 0.9583\n",
            "Epoch 32/50\n",
            "120/120 [==============================] - 0s 3ms/step - loss: 0.1519 - accuracy: 0.9500\n",
            "Epoch 33/50\n",
            "120/120 [==============================] - 0s 3ms/step - loss: 0.1460 - accuracy: 0.9667\n",
            "Epoch 34/50\n",
            "120/120 [==============================] - 0s 3ms/step - loss: 0.1402 - accuracy: 0.9500\n",
            "Epoch 35/50\n",
            "120/120 [==============================] - 1s 7ms/step - loss: 0.1354 - accuracy: 0.9500\n",
            "Epoch 36/50\n",
            "120/120 [==============================] - 0s 3ms/step - loss: 0.1301 - accuracy: 0.9500\n",
            "Epoch 37/50\n",
            "120/120 [==============================] - 0s 2ms/step - loss: 0.1266 - accuracy: 0.9500\n",
            "Epoch 38/50\n",
            "120/120 [==============================] - 0s 3ms/step - loss: 0.1230 - accuracy: 0.9500\n",
            "Epoch 39/50\n",
            "120/120 [==============================] - 0s 4ms/step - loss: 0.1187 - accuracy: 0.9500\n",
            "Epoch 40/50\n",
            "120/120 [==============================] - 0s 3ms/step - loss: 0.1152 - accuracy: 0.9583\n",
            "Epoch 41/50\n",
            "120/120 [==============================] - 0s 3ms/step - loss: 0.1125 - accuracy: 0.9583\n",
            "Epoch 42/50\n",
            "120/120 [==============================] - 0s 3ms/step - loss: 0.1091 - accuracy: 0.9583\n",
            "Epoch 43/50\n",
            "120/120 [==============================] - 1s 7ms/step - loss: 0.1066 - accuracy: 0.9583\n",
            "Epoch 44/50\n",
            "120/120 [==============================] - 1s 5ms/step - loss: 0.1046 - accuracy: 0.9583\n",
            "Epoch 45/50\n",
            "120/120 [==============================] - 0s 3ms/step - loss: 0.1018 - accuracy: 0.9583\n",
            "Epoch 46/50\n",
            "120/120 [==============================] - 0s 3ms/step - loss: 0.1002 - accuracy: 0.9583\n",
            "Epoch 47/50\n",
            "120/120 [==============================] - 0s 3ms/step - loss: 0.0982 - accuracy: 0.9583\n",
            "Epoch 48/50\n",
            "120/120 [==============================] - 0s 3ms/step - loss: 0.0963 - accuracy: 0.9750\n",
            "Epoch 49/50\n",
            "120/120 [==============================] - 0s 4ms/step - loss: 0.0943 - accuracy: 0.9583\n",
            "Epoch 50/50\n",
            "120/120 [==============================] - 0s 3ms/step - loss: 0.0932 - accuracy: 0.9583\n",
            "Test accuracy: 0.9667\n"
          ]
        }
      ]
    },
    {
      "cell_type": "code",
      "source": [
        "import networkx as nx\n",
        "\n",
        "\n",
        "# Assuming you have Ws defined earlier, and Ws[-1] contains W1 and W2\n",
        "# Define the weight matrices (taken from Ws[-1])\n",
        "weights = model.weights\n",
        "# Create a directed graph\n",
        "G = nx.DiGraph()\n",
        "\n",
        "pos = {}\n",
        "# Add nodes for first column\n",
        "col = 0\n",
        "print(len(weights))\n",
        "i = 0\n",
        "z = 0\n",
        "maxRows = 0\n",
        "for z in range(len(weights)):\n",
        "  maxRows = max(maxRows, weights[z].shape[0])\n",
        "  z += 2\n",
        "\n",
        "maxRows += 1\n",
        "\n",
        "while i < len(weights): #gets weights associated with the a column\n",
        "  w = weights[i]\n",
        "\n",
        "  for sourceRow in range(w.shape[0]): # gets weights associated with a node\n",
        "    source_node = 'l_' + str(sourceRow) + '_' + str(col)\n",
        "    pos[source_node] = (col, maxRows//(w.shape[0] + 1) * (sourceRow + 1) * -5)\n",
        "\n",
        "    for row in range(w.shape[1]):\n",
        "      dest_node = 'l_' + str(row) + '_' + str(col+1)\n",
        "      G.add_edge(source_node, dest_node, weight = w[sourceRow][row])\n",
        "      pos[dest_node] = (col + 1, maxRows//(w.shape[1] + 1) * (row + 1) * -5)\n",
        "\n",
        "  i += 2\n",
        "  col += 1"
      ],
      "metadata": {
        "colab": {
          "base_uri": "https://localhost:8080/"
        },
        "id": "PGj87ZzIS6Bq",
        "outputId": "8bb861ff-8b95-49f4-a44c-ab7e58cb599b"
      },
      "execution_count": 10,
      "outputs": [
        {
          "output_type": "stream",
          "name": "stdout",
          "text": [
            "4\n"
          ]
        }
      ]
    },
    {
      "cell_type": "code",
      "source": [
        "input_names = iris[\"feature_names\"]\n",
        "\n",
        "target_names = iris[\"target_names\"]\n",
        "\n",
        "print(weights[-1].shape)\n"
      ],
      "metadata": {
        "colab": {
          "base_uri": "https://localhost:8080/"
        },
        "id": "Csi-KmZk9nsR",
        "outputId": "84fa746d-9054-48ad-c109-8457b0a2c2ff"
      },
      "execution_count": 11,
      "outputs": [
        {
          "output_type": "stream",
          "name": "stdout",
          "text": [
            "(3,)\n"
          ]
        }
      ]
    },
    {
      "cell_type": "code",
      "source": [
        "mapping = {}\n",
        "\n",
        "input_index = 0\n",
        "target_index = 0\n",
        "\n",
        "for node in G.nodes():\n",
        "    if node.endswith('_0'):\n",
        "        # Replace '_0' nodes with input_name from input_names list\n",
        "\n",
        "        mapping[node] = node.replace(node, f'{input_names[input_index]}')\n",
        "        input_index += 1  # Move to the next input_name\n",
        "    elif node.endswith('_2'):\n",
        "        # Replace '_2' nodes with target_name from target_names list\n",
        "        mapping[node] = node.replace(node, f'{target_names[target_index]}')\n",
        "        target_index += 1  # Move to the next target_name\n",
        "# Perform the renaming\n",
        "G = nx.relabel_nodes(G, mapping)\n",
        "\n",
        "print(G.nodes)"
      ],
      "metadata": {
        "colab": {
          "base_uri": "https://localhost:8080/"
        },
        "id": "PnwieFO-9p5m",
        "outputId": "a5419bd5-bd77-4017-a2d5-832b29fba6ce"
      },
      "execution_count": 14,
      "outputs": [
        {
          "output_type": "stream",
          "name": "stdout",
          "text": [
            "['sepal length (cm)', 'l_0_1', 'l_1_1', 'l_2_1', 'l_3_1', 'sepal width (cm)', 'petal length (cm)', 'petal width (cm)', 'setosa', 'versicolor', 'virginica']\n"
          ]
        }
      ]
    },
    {
      "cell_type": "code",
      "source": [
        "# import matplotlib.pyplot as plt\n",
        "# import networkx as nx\n",
        "# import math\n",
        "\n",
        "# edge_colors = []\n",
        "# alpha = []\n",
        "# width = []\n",
        "# for u, v, d in G.edges(data=True):\n",
        "#     # print(\"Source is\", u, \"destination is\", v, \"and weight is\", d[\"weight\"])\n",
        "#     if d['weight'] > 0:\n",
        "#         edge_colors.append('black')\n",
        "#         value = (d['weight'] **(3/2))\n",
        "#     else:\n",
        "#         edge_colors.append('red')\n",
        "#         value = (d['weight'] **(3/2))\n",
        "#         # print(\"stuff happened\")\n",
        "#     alpha.append( d['weight'])\n",
        "\n",
        "#     cubed_value = d['weight'] ** 3\n",
        "#     if cubed_value > 0:\n",
        "#         log_of_cubed_value = math.log(cubed_value)  # natural logarithm (base e)\n",
        "#     else:\n",
        "#         cubed_value *= -1\n",
        "#         log_of_cubed_value = math.log(cubed_value)\n",
        "#     width.append(log_of_cubed_value)\n",
        "\n",
        "# plt.figure(figsize=(35, 10))\n",
        "\n",
        "# nx.draw(G, pos=pos, with_labels=True, node_size=300, node_color='skyblue', font_size=10, font_weight='bold', arrows=True)\n",
        "\n",
        "# nx.draw_networkx_edges(G, pos=pos, edge_color=edge_colors, arrows=True, width = width)\n",
        "\n",
        "\n",
        "# edge_labels = {(u, v): f\"{d['weight']:.2f}\" for u, v, d in G.edges(data=True)}\n",
        "# nx.draw_networkx_edge_labels(G, pos, edge_labels=edge_labels, font_color='black', font_size=8)\n",
        "\n",
        "# plt.title('Neural Network Visualization')\n",
        "\n",
        "# plt.axis('on')\n",
        "# plt.margins(0.1)\n",
        "\n",
        "# plt.show()"
      ],
      "metadata": {
        "id": "RvboFnrTS9Va"
      },
      "execution_count": null,
      "outputs": []
    },
    {
      "cell_type": "code",
      "source": [
        "iris.keys()\n",
        "# feature_names', 'filename', 'data_module'])\n",
        "print(iris[\"data_module\"])"
      ],
      "metadata": {
        "colab": {
          "base_uri": "https://localhost:8080/"
        },
        "id": "p-H9DbrJ4uhG",
        "outputId": "f4daea9c-4562-4268-c994-7987fedda4a9"
      },
      "execution_count": 15,
      "outputs": [
        {
          "output_type": "stream",
          "name": "stdout",
          "text": [
            "sklearn.datasets.data\n"
          ]
        }
      ]
    },
    {
      "cell_type": "code",
      "source": [
        "import plotly.graph_objects as go\n",
        "import networkx as nx\n",
        "import random\n",
        "import math\n",
        "\n",
        "source = []\n",
        "target = []\n",
        "weights_list = []\n",
        "edges = G.edges(data=True)\n",
        "edges = sorted(edges)\n",
        "edge_colors = []\n",
        "# print(\"Length of edges:\", len(edges))\n",
        "for u, v, d in edges:\n",
        "  source.append(u)\n",
        "  target.append(v)\n",
        "  value = d[\"weight\"].numpy()\n",
        "  if d[\"weight\"] < 0:\n",
        "    value = d[\"weight\"].numpy() * -1\n",
        "    value = (value+1) ** 3\n",
        "    value = math.log(value, 10)\n",
        "    value *= -1\n",
        "    edge_colors.append(\"black\")\n",
        "  else:\n",
        "    edge_colors.append(\"red\")\n",
        "    value = (value+1) ** 3\n",
        "    value = math.log(value, 10)\n",
        "  weights_list.append((value)**2)\n",
        "\n",
        "node_to_index = {node: i for i, node in enumerate(sorted(G.nodes))}\n",
        "print(len(source), len(target), len(weights))\n",
        "source_index = []\n",
        "target_index = []\n",
        "\n",
        "\n",
        "for val in source:\n",
        "  source_index.append(node_to_index[val])\n",
        "\n",
        "for val in target:\n",
        "  target_index.append(node_to_index[val])\n",
        "\n",
        "# print(\"Sources:\", source_index)\n",
        "\n",
        "# print(\"Targets:\", target_index)\n",
        "\n",
        "# print(\"Indexes:\", node_to_index)\n",
        "link_properties = {\n",
        "    'source': source_index,\n",
        "    'target': target_index,\n",
        "    'value': weights_list,\n",
        "    'color': edge_colors\n",
        "}\n",
        "\n",
        "node_properties = {\n",
        "    'pad': 15,\n",
        "    'thickness': 20,\n",
        "    'line': dict(color=\"black\", width=0.5),\n",
        "    'label': sorted(G.nodes())\n",
        "}\n",
        "\n",
        "sankey_diagram = go.Sankey(node=node_properties, link=link_properties)\n",
        "\n",
        "fig = go.Figure(data=[sankey_diagram])\n",
        "fig.update_layout(title_text=\"Sankey Diagram for Neural Networks\", font_size=10)\n",
        "fig.show()\n"
      ],
      "metadata": {
        "colab": {
          "base_uri": "https://localhost:8080/",
          "height": 559
        },
        "id": "Qj4qJJiRS-uR",
        "outputId": "e435c588-8217-4161-fb3c-397b07984733"
      },
      "execution_count": 16,
      "outputs": [
        {
          "output_type": "stream",
          "name": "stdout",
          "text": [
            "28 28 4\n"
          ]
        },
        {
          "output_type": "display_data",
          "data": {
            "text/html": [
              "<html>\n",
              "<head><meta charset=\"utf-8\" /></head>\n",
              "<body>\n",
              "    <div>            <script src=\"https://cdnjs.cloudflare.com/ajax/libs/mathjax/2.7.5/MathJax.js?config=TeX-AMS-MML_SVG\"></script><script type=\"text/javascript\">if (window.MathJax && window.MathJax.Hub && window.MathJax.Hub.Config) {window.MathJax.Hub.Config({SVG: {font: \"STIX-Web\"}});}</script>                <script type=\"text/javascript\">window.PlotlyConfig = {MathJaxConfig: 'local'};</script>\n",
              "        <script charset=\"utf-8\" src=\"https://cdn.plot.ly/plotly-2.24.1.min.js\"></script>                <div id=\"1f242d69-8f8f-4298-baf8-a23360012d15\" class=\"plotly-graph-div\" style=\"height:525px; width:100%;\"></div>            <script type=\"text/javascript\">                                    window.PLOTLYENV=window.PLOTLYENV || {};                                    if (document.getElementById(\"1f242d69-8f8f-4298-baf8-a23360012d15\")) {                    Plotly.newPlot(                        \"1f242d69-8f8f-4298-baf8-a23360012d15\",                        [{\"link\":{\"color\":[\"black\",\"black\",\"red\",\"red\",\"black\",\"black\",\"black\",\"red\",\"black\",\"red\",\"black\",\"black\",\"red\",\"black\",\"black\",\"black\",\"red\",\"black\",\"black\",\"black\",\"black\",\"black\",\"black\",\"black\",\"black\",\"red\",\"black\",\"red\"],\"source\":[0,0,0,1,1,1,2,2,2,3,3,3,4,4,4,4,5,5,5,5,6,6,6,6,7,7,7,7],\"target\":[8,9,10,8,9,10,8,9,10,8,9,10,0,1,2,3,0,1,2,3,0,1,2,3,0,1,2,3],\"value\":[0.6768616106385335,0.8072930383017994,1.6492775614838828,1.4560213768081331,0.5211337210880294,0.04255844869936727,0.5717408149935304,0.7016554696592736,1.3921911790468293,0.384077810124656,0.8842560933623909,1.149851909384329,0.6664468691964451,1.3248019122093568,0.11149072949028929,0.48889704679933776,1.694139729070034,0.8604162296666961,0.06258154860150932,0.7718440234479649,0.04274628537941011,0.008432359340733282,0.072229340350766,0.8051573939765815,0.23513015189865707,0.4645943681687785,0.0020444615758958822,0.500998601263851]},\"node\":{\"label\":[\"l_0_1\",\"l_1_1\",\"l_2_1\",\"l_3_1\",\"petal length (cm)\",\"petal width (cm)\",\"sepal length (cm)\",\"sepal width (cm)\",\"setosa\",\"versicolor\",\"virginica\"],\"line\":{\"color\":\"black\",\"width\":0.5},\"pad\":15,\"thickness\":20},\"type\":\"sankey\"}],                        {\"template\":{\"data\":{\"histogram2dcontour\":[{\"type\":\"histogram2dcontour\",\"colorbar\":{\"outlinewidth\":0,\"ticks\":\"\"},\"colorscale\":[[0.0,\"#0d0887\"],[0.1111111111111111,\"#46039f\"],[0.2222222222222222,\"#7201a8\"],[0.3333333333333333,\"#9c179e\"],[0.4444444444444444,\"#bd3786\"],[0.5555555555555556,\"#d8576b\"],[0.6666666666666666,\"#ed7953\"],[0.7777777777777778,\"#fb9f3a\"],[0.8888888888888888,\"#fdca26\"],[1.0,\"#f0f921\"]]}],\"choropleth\":[{\"type\":\"choropleth\",\"colorbar\":{\"outlinewidth\":0,\"ticks\":\"\"}}],\"histogram2d\":[{\"type\":\"histogram2d\",\"colorbar\":{\"outlinewidth\":0,\"ticks\":\"\"},\"colorscale\":[[0.0,\"#0d0887\"],[0.1111111111111111,\"#46039f\"],[0.2222222222222222,\"#7201a8\"],[0.3333333333333333,\"#9c179e\"],[0.4444444444444444,\"#bd3786\"],[0.5555555555555556,\"#d8576b\"],[0.6666666666666666,\"#ed7953\"],[0.7777777777777778,\"#fb9f3a\"],[0.8888888888888888,\"#fdca26\"],[1.0,\"#f0f921\"]]}],\"heatmap\":[{\"type\":\"heatmap\",\"colorbar\":{\"outlinewidth\":0,\"ticks\":\"\"},\"colorscale\":[[0.0,\"#0d0887\"],[0.1111111111111111,\"#46039f\"],[0.2222222222222222,\"#7201a8\"],[0.3333333333333333,\"#9c179e\"],[0.4444444444444444,\"#bd3786\"],[0.5555555555555556,\"#d8576b\"],[0.6666666666666666,\"#ed7953\"],[0.7777777777777778,\"#fb9f3a\"],[0.8888888888888888,\"#fdca26\"],[1.0,\"#f0f921\"]]}],\"heatmapgl\":[{\"type\":\"heatmapgl\",\"colorbar\":{\"outlinewidth\":0,\"ticks\":\"\"},\"colorscale\":[[0.0,\"#0d0887\"],[0.1111111111111111,\"#46039f\"],[0.2222222222222222,\"#7201a8\"],[0.3333333333333333,\"#9c179e\"],[0.4444444444444444,\"#bd3786\"],[0.5555555555555556,\"#d8576b\"],[0.6666666666666666,\"#ed7953\"],[0.7777777777777778,\"#fb9f3a\"],[0.8888888888888888,\"#fdca26\"],[1.0,\"#f0f921\"]]}],\"contourcarpet\":[{\"type\":\"contourcarpet\",\"colorbar\":{\"outlinewidth\":0,\"ticks\":\"\"}}],\"contour\":[{\"type\":\"contour\",\"colorbar\":{\"outlinewidth\":0,\"ticks\":\"\"},\"colorscale\":[[0.0,\"#0d0887\"],[0.1111111111111111,\"#46039f\"],[0.2222222222222222,\"#7201a8\"],[0.3333333333333333,\"#9c179e\"],[0.4444444444444444,\"#bd3786\"],[0.5555555555555556,\"#d8576b\"],[0.6666666666666666,\"#ed7953\"],[0.7777777777777778,\"#fb9f3a\"],[0.8888888888888888,\"#fdca26\"],[1.0,\"#f0f921\"]]}],\"surface\":[{\"type\":\"surface\",\"colorbar\":{\"outlinewidth\":0,\"ticks\":\"\"},\"colorscale\":[[0.0,\"#0d0887\"],[0.1111111111111111,\"#46039f\"],[0.2222222222222222,\"#7201a8\"],[0.3333333333333333,\"#9c179e\"],[0.4444444444444444,\"#bd3786\"],[0.5555555555555556,\"#d8576b\"],[0.6666666666666666,\"#ed7953\"],[0.7777777777777778,\"#fb9f3a\"],[0.8888888888888888,\"#fdca26\"],[1.0,\"#f0f921\"]]}],\"mesh3d\":[{\"type\":\"mesh3d\",\"colorbar\":{\"outlinewidth\":0,\"ticks\":\"\"}}],\"scatter\":[{\"fillpattern\":{\"fillmode\":\"overlay\",\"size\":10,\"solidity\":0.2},\"type\":\"scatter\"}],\"parcoords\":[{\"type\":\"parcoords\",\"line\":{\"colorbar\":{\"outlinewidth\":0,\"ticks\":\"\"}}}],\"scatterpolargl\":[{\"type\":\"scatterpolargl\",\"marker\":{\"colorbar\":{\"outlinewidth\":0,\"ticks\":\"\"}}}],\"bar\":[{\"error_x\":{\"color\":\"#2a3f5f\"},\"error_y\":{\"color\":\"#2a3f5f\"},\"marker\":{\"line\":{\"color\":\"#E5ECF6\",\"width\":0.5},\"pattern\":{\"fillmode\":\"overlay\",\"size\":10,\"solidity\":0.2}},\"type\":\"bar\"}],\"scattergeo\":[{\"type\":\"scattergeo\",\"marker\":{\"colorbar\":{\"outlinewidth\":0,\"ticks\":\"\"}}}],\"scatterpolar\":[{\"type\":\"scatterpolar\",\"marker\":{\"colorbar\":{\"outlinewidth\":0,\"ticks\":\"\"}}}],\"histogram\":[{\"marker\":{\"pattern\":{\"fillmode\":\"overlay\",\"size\":10,\"solidity\":0.2}},\"type\":\"histogram\"}],\"scattergl\":[{\"type\":\"scattergl\",\"marker\":{\"colorbar\":{\"outlinewidth\":0,\"ticks\":\"\"}}}],\"scatter3d\":[{\"type\":\"scatter3d\",\"line\":{\"colorbar\":{\"outlinewidth\":0,\"ticks\":\"\"}},\"marker\":{\"colorbar\":{\"outlinewidth\":0,\"ticks\":\"\"}}}],\"scattermapbox\":[{\"type\":\"scattermapbox\",\"marker\":{\"colorbar\":{\"outlinewidth\":0,\"ticks\":\"\"}}}],\"scatterternary\":[{\"type\":\"scatterternary\",\"marker\":{\"colorbar\":{\"outlinewidth\":0,\"ticks\":\"\"}}}],\"scattercarpet\":[{\"type\":\"scattercarpet\",\"marker\":{\"colorbar\":{\"outlinewidth\":0,\"ticks\":\"\"}}}],\"carpet\":[{\"aaxis\":{\"endlinecolor\":\"#2a3f5f\",\"gridcolor\":\"white\",\"linecolor\":\"white\",\"minorgridcolor\":\"white\",\"startlinecolor\":\"#2a3f5f\"},\"baxis\":{\"endlinecolor\":\"#2a3f5f\",\"gridcolor\":\"white\",\"linecolor\":\"white\",\"minorgridcolor\":\"white\",\"startlinecolor\":\"#2a3f5f\"},\"type\":\"carpet\"}],\"table\":[{\"cells\":{\"fill\":{\"color\":\"#EBF0F8\"},\"line\":{\"color\":\"white\"}},\"header\":{\"fill\":{\"color\":\"#C8D4E3\"},\"line\":{\"color\":\"white\"}},\"type\":\"table\"}],\"barpolar\":[{\"marker\":{\"line\":{\"color\":\"#E5ECF6\",\"width\":0.5},\"pattern\":{\"fillmode\":\"overlay\",\"size\":10,\"solidity\":0.2}},\"type\":\"barpolar\"}],\"pie\":[{\"automargin\":true,\"type\":\"pie\"}]},\"layout\":{\"autotypenumbers\":\"strict\",\"colorway\":[\"#636efa\",\"#EF553B\",\"#00cc96\",\"#ab63fa\",\"#FFA15A\",\"#19d3f3\",\"#FF6692\",\"#B6E880\",\"#FF97FF\",\"#FECB52\"],\"font\":{\"color\":\"#2a3f5f\"},\"hovermode\":\"closest\",\"hoverlabel\":{\"align\":\"left\"},\"paper_bgcolor\":\"white\",\"plot_bgcolor\":\"#E5ECF6\",\"polar\":{\"bgcolor\":\"#E5ECF6\",\"angularaxis\":{\"gridcolor\":\"white\",\"linecolor\":\"white\",\"ticks\":\"\"},\"radialaxis\":{\"gridcolor\":\"white\",\"linecolor\":\"white\",\"ticks\":\"\"}},\"ternary\":{\"bgcolor\":\"#E5ECF6\",\"aaxis\":{\"gridcolor\":\"white\",\"linecolor\":\"white\",\"ticks\":\"\"},\"baxis\":{\"gridcolor\":\"white\",\"linecolor\":\"white\",\"ticks\":\"\"},\"caxis\":{\"gridcolor\":\"white\",\"linecolor\":\"white\",\"ticks\":\"\"}},\"coloraxis\":{\"colorbar\":{\"outlinewidth\":0,\"ticks\":\"\"}},\"colorscale\":{\"sequential\":[[0.0,\"#0d0887\"],[0.1111111111111111,\"#46039f\"],[0.2222222222222222,\"#7201a8\"],[0.3333333333333333,\"#9c179e\"],[0.4444444444444444,\"#bd3786\"],[0.5555555555555556,\"#d8576b\"],[0.6666666666666666,\"#ed7953\"],[0.7777777777777778,\"#fb9f3a\"],[0.8888888888888888,\"#fdca26\"],[1.0,\"#f0f921\"]],\"sequentialminus\":[[0.0,\"#0d0887\"],[0.1111111111111111,\"#46039f\"],[0.2222222222222222,\"#7201a8\"],[0.3333333333333333,\"#9c179e\"],[0.4444444444444444,\"#bd3786\"],[0.5555555555555556,\"#d8576b\"],[0.6666666666666666,\"#ed7953\"],[0.7777777777777778,\"#fb9f3a\"],[0.8888888888888888,\"#fdca26\"],[1.0,\"#f0f921\"]],\"diverging\":[[0,\"#8e0152\"],[0.1,\"#c51b7d\"],[0.2,\"#de77ae\"],[0.3,\"#f1b6da\"],[0.4,\"#fde0ef\"],[0.5,\"#f7f7f7\"],[0.6,\"#e6f5d0\"],[0.7,\"#b8e186\"],[0.8,\"#7fbc41\"],[0.9,\"#4d9221\"],[1,\"#276419\"]]},\"xaxis\":{\"gridcolor\":\"white\",\"linecolor\":\"white\",\"ticks\":\"\",\"title\":{\"standoff\":15},\"zerolinecolor\":\"white\",\"automargin\":true,\"zerolinewidth\":2},\"yaxis\":{\"gridcolor\":\"white\",\"linecolor\":\"white\",\"ticks\":\"\",\"title\":{\"standoff\":15},\"zerolinecolor\":\"white\",\"automargin\":true,\"zerolinewidth\":2},\"scene\":{\"xaxis\":{\"backgroundcolor\":\"#E5ECF6\",\"gridcolor\":\"white\",\"linecolor\":\"white\",\"showbackground\":true,\"ticks\":\"\",\"zerolinecolor\":\"white\",\"gridwidth\":2},\"yaxis\":{\"backgroundcolor\":\"#E5ECF6\",\"gridcolor\":\"white\",\"linecolor\":\"white\",\"showbackground\":true,\"ticks\":\"\",\"zerolinecolor\":\"white\",\"gridwidth\":2},\"zaxis\":{\"backgroundcolor\":\"#E5ECF6\",\"gridcolor\":\"white\",\"linecolor\":\"white\",\"showbackground\":true,\"ticks\":\"\",\"zerolinecolor\":\"white\",\"gridwidth\":2}},\"shapedefaults\":{\"line\":{\"color\":\"#2a3f5f\"}},\"annotationdefaults\":{\"arrowcolor\":\"#2a3f5f\",\"arrowhead\":0,\"arrowwidth\":1},\"geo\":{\"bgcolor\":\"white\",\"landcolor\":\"#E5ECF6\",\"subunitcolor\":\"white\",\"showland\":true,\"showlakes\":true,\"lakecolor\":\"white\"},\"title\":{\"x\":0.05},\"mapbox\":{\"style\":\"light\"}}},\"title\":{\"text\":\"Sankey Diagram for Neural Networks\"},\"font\":{\"size\":10}},                        {\"responsive\": true}                    ).then(function(){\n",
              "                            \n",
              "var gd = document.getElementById('1f242d69-8f8f-4298-baf8-a23360012d15');\n",
              "var x = new MutationObserver(function (mutations, observer) {{\n",
              "        var display = window.getComputedStyle(gd).display;\n",
              "        if (!display || display === 'none') {{\n",
              "            console.log([gd, 'removed!']);\n",
              "            Plotly.purge(gd);\n",
              "            observer.disconnect();\n",
              "        }}\n",
              "}});\n",
              "\n",
              "// Listen for the removal of the full notebook cells\n",
              "var notebookContainer = gd.closest('#notebook-container');\n",
              "if (notebookContainer) {{\n",
              "    x.observe(notebookContainer, {childList: true});\n",
              "}}\n",
              "\n",
              "// Listen for the clearing of the current output cell\n",
              "var outputEl = gd.closest('.output');\n",
              "if (outputEl) {{\n",
              "    x.observe(outputEl, {childList: true});\n",
              "}}\n",
              "\n",
              "                        })                };                            </script>        </div>\n",
              "</body>\n",
              "</html>"
            ]
          },
          "metadata": {}
        }
      ]
    }
  ]
}