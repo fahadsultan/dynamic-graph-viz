{
  "nbformat": 4,
  "nbformat_minor": 0,
  "metadata": {
    "colab": {
      "provenance": []
    },
    "kernelspec": {
      "name": "python3",
      "display_name": "Python 3"
    },
    "language_info": {
      "name": "python"
    }
  },
  "cells": [
    {
      "cell_type": "code",
      "source": [
        "import tensorflow as tf\n",
        "from sklearn.model_selection import train_test_split\n",
        "from sklearn.preprocessing import StandardScaler\n",
        "from sklearn.metrics import confusion_matrix, classification_report\n",
        "import pandas as pd\n",
        "from sklearn import datasets\n"
      ],
      "metadata": {
        "id": "26K5b1UOSpeT"
      },
      "execution_count": 100,
      "outputs": []
    },
    {
      "cell_type": "code",
      "source": [
        "(X_train, y_train), (X_test, y_test) = tf.keras.datasets.fashion_mnist.load_data()\n"
      ],
      "metadata": {
        "id": "fWsyX_4NMH2K"
      },
      "execution_count": 101,
      "outputs": []
    },
    {
      "cell_type": "code",
      "source": [
        "X_train, X_test = X_train / 255.0, X_test / 255.0\n",
        "\n",
        "# Flatten pixels\n",
        "X_train = X_train.reshape((-1, 784))\n",
        "X_test = X_test.reshape((-1, 784))"
      ],
      "metadata": {
        "id": "Ro9aFudwTLoW"
      },
      "execution_count": 102,
      "outputs": []
    },
    {
      "cell_type": "code",
      "source": [
        "import tensorflow as tf\n",
        "\n",
        "# tf.random.set_seed(42)\n",
        "\n",
        "model = tf.keras.Sequential([\n",
        "    tf.keras.layers.InputLayer(input_shape=784),\n",
        "    tf.keras.layers.Dense(25, activation=\"relu\"),\n",
        "    tf.keras.layers.Dense(20, activation=\"relu\"),\n",
        "    tf.keras.layers.Dense(15, activation=\"relu\"),\n",
        "    tf.keras.layers.Dense(10, activation='softmax')\n",
        "])\n",
        "model.compile(optimizer='adam',\n",
        "              loss='sparse_categorical_crossentropy',\n",
        "              metrics=['accuracy'])\n",
        "\n",
        "\n",
        "model.fit(X_train, y_train, epochs=3, batch_size=1, verbose=1)\n",
        "\n",
        "test_loss, test_acc = model.evaluate(X_test,  y_test, verbose=2)\n",
        "\n",
        "print('\\nTest accuracy:', test_acc)\n",
        "\n",
        "probability_model = tf.keras.Sequential([model, tf.keras.layers.Softmax()])\n",
        "\n",
        "predictions = probability_model.predict(X_test)"
      ],
      "metadata": {
        "colab": {
          "base_uri": "https://localhost:8080/"
        },
        "id": "0rf3Ky5PR1Q9",
        "outputId": "bd296fe8-3820-4ed3-8b11-aadb39294477"
      },
      "execution_count": null,
      "outputs": [
        {
          "output_type": "stream",
          "name": "stdout",
          "text": [
            "Epoch 1/3\n",
            "60000/60000 [==============================] - 185s 3ms/step - loss: 0.5428 - accuracy: 0.8064\n",
            "Epoch 2/3\n",
            "60000/60000 [==============================] - 184s 3ms/step - loss: 0.4388 - accuracy: 0.8450\n",
            "Epoch 3/3\n",
            "42655/60000 [====================>.........] - ETA: 52s - loss: 0.4149 - accuracy: 0.8555"
          ]
        }
      ]
    },
    {
      "cell_type": "code",
      "source": [
        "# import tensorflow as tf\n",
        "\n",
        "# # tf.random.set_seed(42)\n",
        "\n",
        "# # custom constraint for non-negative weights\n",
        "# class NonNegConstraint(tf.keras.constraints.Constraint):\n",
        "#     def __call__(self, w):\n",
        "#         w = tf.where(w < 0., tf.zeros_like(w), w)\n",
        "#         return w\n",
        "\n",
        "# model = tf.keras.Sequential([\n",
        "#     tf.keras.layers.InputLayer(input_shape=784),\n",
        "#     tf.keras.layers.Dense(10, activation='tanh', kernel_constraint=NonNegConstraint()),\n",
        "#     tf.keras.layers.Dense(5, activation='relu', kernel_constraint=NonNegConstraint()),\n",
        "#     tf.keras.layers.Dense(10, activation='softmax', kernel_constraint=NonNegConstraint())\n",
        "# ])\n",
        "\n",
        "# model.compile(optimizer='adam',\n",
        "#               loss='sparse_categorical_crossentropy',\n",
        "#               metrics=['accuracy'])\n",
        "\n",
        "\n",
        "# model.fit(X_train, y_train, epochs=3, batch_size=1, verbose=1)\n",
        "\n",
        "# loss, accuracy = model.evaluate(X_test, y_test, verbose=0)\n",
        "# print(f'Test accuracy: {accuracy:.4f}')\n"
      ],
      "metadata": {
        "id": "LdYDz5UpBTzu"
      },
      "execution_count": null,
      "outputs": []
    },
    {
      "cell_type": "code",
      "source": [
        "import networkx as nx\n",
        "\n",
        "weights = model.weights\n",
        "\n",
        "G = nx.DiGraph()\n",
        "\n",
        "pos = {}\n",
        "\n",
        "col = 0\n",
        "print(len(weights))\n",
        "i = 0\n",
        "z = 0\n",
        "maxRows = 0\n",
        "for z in range(len(weights)):\n",
        "  maxRows = max(maxRows, weights[z].shape[0])\n",
        "  z += 2\n",
        "\n",
        "maxRows += 1\n",
        "\n",
        "while i < len(weights): #gets weights associated with the a column\n",
        "  w = weights[i]\n",
        "\n",
        "  for sourceRow in range(w.shape[0]): # gets weights associated with a node\n",
        "    source_node = 'l_' + str(sourceRow) + '_' + str(col)\n",
        "    pos[source_node] = (col, maxRows//(w.shape[0] + 1) * (sourceRow + 1) * -5)\n",
        "\n",
        "    for row in range(w.shape[1]):\n",
        "      dest_node = 'l_' + str(row) + '_' + str(col+1)\n",
        "      G.add_edge(source_node, dest_node, weight = w[sourceRow][row])\n",
        "      pos[dest_node] = (col + 1, maxRows//(w.shape[1] + 1) * (row + 1) * -5)\n",
        "\n",
        "  i += 2\n",
        "  col += 1"
      ],
      "metadata": {
        "id": "PGj87ZzIS6Bq"
      },
      "execution_count": null,
      "outputs": []
    },
    {
      "cell_type": "code",
      "source": [
        "# # filter _0 nodes\n",
        "nodes_to_exclude = [node for node in G.nodes() if node.endswith(\"_0\")]\n",
        "G_filtered = G.copy()\n",
        "G_filtered.remove_nodes_from(nodes_to_exclude)\n",
        "\n"
      ],
      "metadata": {
        "id": "u97Tbm86xYUL"
      },
      "execution_count": null,
      "outputs": []
    },
    {
      "cell_type": "code",
      "source": [
        "# mapping = {}\n",
        "# target_names = ['T-shirt/top', 'Trouser', 'Pullover', 'Dress', 'Coat',\n",
        "#                'Sandal', 'Shirt', 'Sneaker', 'Bag', 'Ankle boot']\n",
        "\n",
        "# target_index = 0\n",
        "\n",
        "# for node in G_filtered.nodes():\n",
        "#     if node.endswith('_4'):\n",
        "#         mapping[node] = node.replace(node, f'{target_names[target_index]}')\n",
        "#         target_index += 1  # Move to the next target_name\n",
        "# # Perform the renaming\n",
        "# G_filtered = nx.relabel_nodes(G_filtered, mapping)\n",
        "\n",
        "# print(G_filtered.nodes)"
      ],
      "metadata": {
        "id": "r1_n9I17xYcS"
      },
      "execution_count": null,
      "outputs": []
    },
    {
      "cell_type": "code",
      "source": [],
      "metadata": {
        "id": "7hDlUJFAxhjl"
      },
      "execution_count": null,
      "outputs": []
    },
    {
      "cell_type": "code",
      "source": [
        "import matplotlib.pyplot as plt\n",
        "import networkx as nx\n",
        "import math\n",
        "import matplotlib.pyplot as plt\n",
        "import networkx as nx\n",
        "\n",
        "\n",
        "edge_colors = []\n",
        "width = []\n",
        "for u, v, d in G_filtered.edges(data=True):\n",
        "    if d['weight'] > 0:\n",
        "        edge_colors.append('black')\n",
        "    else:\n",
        "        edge_colors.append('red')\n",
        "    width.append((d['weight']))\n",
        "\n",
        "plt.figure(figsize=(35, 10))\n",
        "\n",
        "nx.draw(G_filtered, pos=pos, with_labels=True, node_size=300, node_color='skyblue', font_size=10, font_weight='bold', arrows=True)\n",
        "\n",
        "nx.draw_networkx_edges(G_filtered, pos=pos, edge_color=edge_colors, arrows=True, width=width)\n",
        "\n",
        "edge_labels = {(u, v): f\"{d['weight']:.2f}\" for u, v, d in G_filtered.edges(data=True)}\n",
        "nx.draw_networkx_edge_labels(G_filtered, pos, edge_labels=edge_labels, font_color='black', font_size=8)\n",
        "\n",
        "plt.title('Neural Network Visualization')\n",
        "plt.axis('on')\n",
        "plt.margins(0.1)\n",
        "\n",
        "plt.show()\n"
      ],
      "metadata": {
        "id": "RvboFnrTS9Va"
      },
      "execution_count": null,
      "outputs": []
    },
    {
      "cell_type": "code",
      "source": [
        "negativeCount = 0\n",
        "negativeWeight = 0\n",
        "positiveCount = 0\n",
        "positiveWeight = 0\n",
        "# for u, v, d in G.edges(data=True):\n",
        "#   # if u.endswith(\"_\"):\n",
        "#   #   continue\n",
        "#   if d[\"weight\"] > 0:\n",
        "\n",
        "#   else:\n",
        "\n"
      ],
      "metadata": {
        "id": "jbH8OfgGc6TH"
      },
      "execution_count": null,
      "outputs": []
    },
    {
      "cell_type": "code",
      "source": [
        "import plotly.graph_objects as go\n",
        "import networkx as nx\n",
        "import random\n",
        "import math\n",
        "\n",
        "source = []\n",
        "target = []\n",
        "weights_list = []\n",
        "edges = G_filtered.edges(data=True)\n",
        "edges = sorted(edges)\n",
        "edge_colors = []\n",
        "# print(\"Length of edges:\", len(edges))\n",
        "for u, v, d in edges:\n",
        "  # if u.endswith(\"_0\"):\n",
        "  #   continue\n",
        "  source.append(u)\n",
        "  target.append(v)\n",
        "  value = d[\"weight\"].numpy()\n",
        "  value = d[\"weight\"]\n",
        "  if d[\"weight\"] >= 0:\n",
        "    edge_colors.append(f\"rgb(0,{int(255 * intensity)}, 0)\")\n",
        "    positiveCount += 1\n",
        "    positiveWeight += d[\"weight\"].numpy()\n",
        "  else:\n",
        "    value *= -1\n",
        "    intensity = min(1.0, abs(value) / 2)\n",
        "    edge_colors.append(f\"rgb({int(255 * intensity)}, 0, 0)\")\n",
        "    negativeCount += 1\n",
        "    negativeWeight += d[\"weight\"].numpy()\n",
        "    # print(\"Weight is\", d[\"weight\"])\n",
        "  weights_list.append(value)\n",
        "\n",
        "node_to_index = {node: i for i, node in enumerate(sorted(G_filtered.nodes))}\n",
        "print(len(source), len(target), len(weights))\n",
        "source_index = []\n",
        "target_index = []\n",
        "\n",
        "\n",
        "for val in source:\n",
        "  source_index.append(node_to_index[val])\n",
        "\n",
        "for val in target:\n",
        "  target_index.append(node_to_index[val])\n",
        "\n",
        "# print(\"Sources:\", source_index)\n",
        "\n",
        "# print(\"Targets:\", target_index)\n",
        "\n",
        "# print(\"Indexes:\", node_to_index)\n",
        "link_properties = {\n",
        "    'source': source_index,\n",
        "    'target': target_index,\n",
        "    'value': weights_list,\n",
        "    'color': edge_colors\n",
        "}\n",
        "\n",
        "node_properties = {\n",
        "    'pad': 15,\n",
        "    'thickness': 20,\n",
        "    'line': dict(color=\"black\", width=0.5),\n",
        "    'label': sorted(G_filtered.nodes())\n",
        "}\n",
        "\n",
        "sankey_diagram = go.Sankey(node=node_properties, link=link_properties)\n",
        "\n",
        "fig = go.Figure(data=[sankey_diagram])\n",
        "fig.update_layout(title_text=\"Sankey Diagram for Neural Networks\", font_size=10)\n",
        "fig.show()\n"
      ],
      "metadata": {
        "id": "Qj4qJJiRS-uR"
      },
      "execution_count": null,
      "outputs": []
    },
    {
      "cell_type": "code",
      "source": [
        "print(\"There are\", negativeCount, \"negatives with a total value of\", negativeWeight, \"and\", positiveCount, \"positives/more than 0 with a total value of\", positiveWeight)"
      ],
      "metadata": {
        "id": "b1lhTV0-X9qV"
      },
      "execution_count": null,
      "outputs": []
    }
  ]
}